{
 "cells": [
  {
   "cell_type": "markdown",
   "id": "dutch-agent",
   "metadata": {},
   "source": [
    "During my PhD days at Boston University, I never bothered to learn how to log errors in Python. When I was testing my code on my local computer, I could simply see the errors on my terminal screen and when I would send my production code to BU's shared computing cluster, it would store all stdout messages in a file. \n",
    "\n",
    "I later realized that it's not true for all cloud computing systems. In particular, when I started running my production code on Amazon Web Server, my python code could crash without leaving any error message. \n",
    "\n",
    "My first attempt was to use python's `try except` block to save the error message. "
   ]
  },
  {
   "cell_type": "code",
   "execution_count": 10,
   "id": "optical-football",
   "metadata": {},
   "outputs": [
    {
     "name": "stdout",
     "output_type": "stream",
     "text": [
      "division by zero\n"
     ]
    }
   ],
   "source": [
    "y=3\n",
    "try:\n",
    "    x=2/0\n",
    "    z=x+y\n",
    "except Exception as e:\n",
    "    print(e) \n",
    "#LATER save this into a file\n",
    "# !cat filename"
   ]
  },
  {
   "cell_type": "markdown",
   "id": "solid-classic",
   "metadata": {},
   "source": [
    "You can see that it doesn't save the source of the errors (i.e. traceback error). For a code that runs hundreds of lines, we would like to know which line triggered the error message. This forced me to look better ways to log my errors on my own and then I stumbled onto python's `logging` class. It is an extremely powerful and customizable class. It takes some time to learn how to use it but I feel it's worth the investment. Let's start with a simple example."
   ]
  },
  {
   "cell_type": "code",
   "execution_count": 2,
   "id": "extended-animal",
   "metadata": {},
   "outputs": [],
   "source": [
    "import logging\n",
    "logging.basicConfig(filename='example.log')#, level=logging.DEBUG)\n",
    "logging.debug('This message should be recorded to the log file')\n",
    "logging.warning('Also this')\n",
    "logging.info('And this.')"
   ]
  },
  {
   "cell_type": "code",
   "execution_count": 3,
   "id": "included-hobby",
   "metadata": {},
   "outputs": [
    {
     "name": "stdout",
     "output_type": "stream",
     "text": [
      "DEBUG:root:This message should be recorded to the log file\r\n",
      "WARNING:root:Also this\r\n",
      "INFO:root:And this.\r\n",
      "ERROR:root:Exception occurred\r\n",
      "ERROR:root:Exception occurred\r\n",
      "Traceback (most recent call last):\r\n",
      "  File \"<ipython-input-6-b2e67bcafbd7>\", line 4, in <module>\r\n",
      "    x=2/0\r\n",
      "ZeroDivisionError: division by zero\r\n",
      "DEBUG:root:This message should be recorded to the log file\r\n",
      "WARNING:root:Also this\r\n",
      "INFO:root:And this.\r\n"
     ]
    }
   ],
   "source": [
    "!cat example.log"
   ]
  },
  {
   "cell_type": "markdown",
   "id": "suitable-manhattan",
   "metadata": {},
   "source": [
    "Note how the error log contains three things: \n",
    "1. what's the level of error?\n",
    "2. who wrote the error message?\n",
    "3. what is the message?\n",
    "\n",
    "Now let's go back to our previous example.\n",
    "\n",
    "LATER: expalin levels of error in Python and it's severity.Explain by default, it doesn't write all messages but you can write it"
   ]
  },
  {
   "cell_type": "code",
   "execution_count": 4,
   "id": "temporal-estimate",
   "metadata": {},
   "outputs": [],
   "source": [
    "#logging.basicConfig(filename='example2.log', level=logging.DEBUG)\n",
    "y=3\n",
    "try:\n",
    "    x=2/0\n",
    "    z=x+y\n",
    "except Exception as e:\n",
    "    logging.error(\"Exception occurred\", exc_info=True)"
   ]
  },
  {
   "cell_type": "code",
   "execution_count": 5,
   "id": "continued-stevens",
   "metadata": {},
   "outputs": [
    {
     "name": "stdout",
     "output_type": "stream",
     "text": [
      "DEBUG:root:This message should be recorded to the log file\r\n",
      "WARNING:root:Also this\r\n",
      "INFO:root:And this.\r\n",
      "ERROR:root:Exception occurred\r\n",
      "ERROR:root:Exception occurred\r\n",
      "Traceback (most recent call last):\r\n",
      "  File \"<ipython-input-6-b2e67bcafbd7>\", line 4, in <module>\r\n",
      "    x=2/0\r\n",
      "ZeroDivisionError: division by zero\r\n",
      "DEBUG:root:This message should be recorded to the log file\r\n",
      "WARNING:root:Also this\r\n",
      "INFO:root:And this.\r\n",
      "ERROR:root:Exception occurred\r\n",
      "Traceback (most recent call last):\r\n",
      "  File \"<ipython-input-4-2220feca0ce4>\", line 4, in <module>\r\n",
      "    x=2/0\r\n",
      "ZeroDivisionError: division by zero\r\n"
     ]
    }
   ],
   "source": [
    "!cat example.log"
   ]
  },
  {
   "cell_type": "markdown",
   "id": "efficient-restoration",
   "metadata": {},
   "source": [
    "Note that we had to say `exc_info=True` so that it saves the Traceback of error.\n",
    "\n",
    "Next we would learn how to customize the format of the message so that we can save the date and time of the message.\n",
    "https://realpython.com/python-logging/"
   ]
  }
 ],
 "metadata": {
  "kernelspec": {
   "display_name": "Python 3",
   "language": "python",
   "name": "python3"
  },
  "language_info": {
   "codemirror_mode": {
    "name": "ipython",
    "version": 3
   },
   "file_extension": ".py",
   "mimetype": "text/x-python",
   "name": "python",
   "nbconvert_exporter": "python",
   "pygments_lexer": "ipython3",
   "version": "3.6.12"
  }
 },
 "nbformat": 4,
 "nbformat_minor": 5
}
