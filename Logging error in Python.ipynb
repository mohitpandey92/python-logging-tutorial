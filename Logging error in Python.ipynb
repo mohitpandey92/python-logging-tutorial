{
 "cells": [
  {
   "cell_type": "markdown",
   "id": "dutch-agent",
   "metadata": {},
   "source": [
    "During my PhD days at Boston University, I never bothered to learn how to log errors in Python. When I was testing my code on my local computer, I could simply see the errors on my terminal screen and when I would send my production code to BU's shared computing cluster, it would always save all error messages in a file. \n",
    "\n",
    "I later realized that it's not true for all cloud computing systems. In particular, when I would be running my production code on Amazon Web Server and my python code would crash suddenly without any leaving any error message. I tried printing my error by using python's try, except block but it doesn't save traceback error. This forced me to look better ways to log my errors on my own."
   ]
  },
  {
   "cell_type": "code",
   "execution_count": 4,
   "id": "extended-animal",
   "metadata": {},
   "outputs": [],
   "source": [
    "import logging"
   ]
  },
  {
   "cell_type": "code",
   "execution_count": 5,
   "id": "included-hobby",
   "metadata": {},
   "outputs": [],
   "source": [
    "logging.basicConfig(filename='example.log', level=logging.DEBUG)\n",
    "logging.debug('This message should be recorded to the log file')\n",
    "logging.warning('Also this')\n",
    "logging.info('And, this.')"
   ]
  },
  {
   "cell_type": "code",
   "execution_count": 3,
   "id": "temporal-estimate",
   "metadata": {},
   "outputs": [
    {
     "name": "stdout",
     "output_type": "stream",
     "text": [
      "DEBUG:root:This message should be recorded to the log file\r\n",
      "WARNING:root:Also this\r\n",
      "INFO:root:And, this.\r\n"
     ]
    }
   ],
   "source": [
    "!cat example.log"
   ]
  },
  {
   "cell_type": "markdown",
   "id": "suitable-manhattan",
   "metadata": {},
   "source": [
    "Note how the error log contains three things: \n",
    "1. what's the level of error?\n",
    "2. who wrote the error message?\n",
    "3. what is the message?"
   ]
  },
  {
   "cell_type": "code",
   "execution_count": null,
   "id": "continued-stevens",
   "metadata": {},
   "outputs": [],
   "source": []
  }
 ],
 "metadata": {
  "kernelspec": {
   "display_name": "Python 3",
   "language": "python",
   "name": "python3"
  },
  "language_info": {
   "codemirror_mode": {
    "name": "ipython",
    "version": 3
   },
   "file_extension": ".py",
   "mimetype": "text/x-python",
   "name": "python",
   "nbconvert_exporter": "python",
   "pygments_lexer": "ipython3",
   "version": "3.6.12"
  }
 },
 "nbformat": 4,
 "nbformat_minor": 5
}
