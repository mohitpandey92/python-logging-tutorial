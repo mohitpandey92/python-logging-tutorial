{
 "cells": [
  {
   "cell_type": "markdown",
   "id": "dutch-agent",
   "metadata": {},
   "source": [
    "### Introduction\n",
    "\n",
    "During my PhD days at Boston University, I never bothered to learn how to log errors in Python. When I was testing my code on my local computer, I could simply see the errors on my terminal screen and when I would send my production code to BU's shared computing cluster, it would store all stderr messages in a file as long as I specify it on my <a href=\"https://www.bu.edu/tech/support/research/system-usage/running-jobs/submitting-jobs/\">qsub job script</a>.\n",
    "\n",
    "\n",
    "I later realized that it's not true for all cloud computing systems. In particular, when I started running my production code on Amazon Web Server, my python code could crash without leaving any error message. \n",
    "\n",
    "My first attempt was to use python's `try except` block to save the error message. \n",
    "\n",
    "### Simple Example "
   ]
  },
  {
   "cell_type": "code",
   "execution_count": 1,
   "id": "optical-football",
   "metadata": {},
   "outputs": [
    {
     "name": "stdout",
     "output_type": "stream",
     "text": [
      "division by zero\n"
     ]
    }
   ],
   "source": [
    "y=3\n",
    "try:\n",
    "    x=2/0\n",
    "    z=x+y\n",
    "except Exception as e:\n",
    "    print(e)"
   ]
  },
  {
   "cell_type": "markdown",
   "id": "solid-classic",
   "metadata": {},
   "source": [
    "You can see that it doesn't save the source of the errors (i.e. traceback error). For a code that runs hundreds of lines, we would like to know which line triggered the error message. This forced me to look better ways to log my errors on my own and then I stumbled onto python's `logging` class. It is an extremely powerful and customizable class. It takes some time to learn how to use it but I feel it's worth the investment. Let's start with a simple example.\n",
    "\n",
    "### First logging event tracking"
   ]
  },
  {
   "cell_type": "code",
   "execution_count": 4,
   "id": "extended-animal",
   "metadata": {},
   "outputs": [],
   "source": [
    "import logging\n",
    "logging.basicConfig(filename='example.log')#, level=logging.DEBUG)\n",
    "logging.debug('This message should be recorded if you are debugging')\n",
    "logging.info(\"Hello there\")\n",
    "logging.warning('Also this')\n",
    "logging.error('And this.')\n",
    "logging.critical(\"Woahhh\")"
   ]
  },
  {
   "cell_type": "code",
   "execution_count": 5,
   "id": "included-hobby",
   "metadata": {},
   "outputs": [
    {
     "name": "stdout",
     "output_type": "stream",
     "text": [
      "WARNING:root:Also this\r\n",
      "ERROR:root:And this.\r\n",
      "CRITICAL:root:Woahhh\r\n"
     ]
    }
   ],
   "source": [
    "!cat example.log"
   ]
  },
  {
   "cell_type": "markdown",
   "id": "suitable-manhattan",
   "metadata": {},
   "source": [
    "Note how the error log contains three things: \n",
    "1. <b> What's the level of error? </b> Python has five levels of events that `logging` can track (in increasing severity): DEBUG, INFO, WARNING, ERROR, CRITICAL. By default, Python tracks WARNING and higher levels. This is why `logging.debug` and `logging.info` messages were written to file.\n",
    "2. <b> Who wrote the error message? </b> This can be customized to track error messages coming from different modules or users\n",
    "3. <b> What is the message? </b> Apart from storing explicit message, you can also save `Traceback` error using `exc_info=True` argument (see below).\n",
    "\n",
    "Now let's go back to our first example.\n",
    "\n",
    "### Use logging to save traceback message"
   ]
  },
  {
   "cell_type": "code",
   "execution_count": 6,
   "id": "temporal-estimate",
   "metadata": {},
   "outputs": [],
   "source": [
    "y=3\n",
    "try:\n",
    "    x=2/0\n",
    "    z=x+y\n",
    "except Exception as e:\n",
    "    logging.error(\"Exception occurred\", exc_info=True)"
   ]
  },
  {
   "cell_type": "code",
   "execution_count": 7,
   "id": "continued-stevens",
   "metadata": {},
   "outputs": [
    {
     "name": "stdout",
     "output_type": "stream",
     "text": [
      "WARNING:root:Also this\r\n",
      "ERROR:root:And this.\r\n",
      "CRITICAL:root:Woahhh\r\n",
      "ERROR:root:Exception occurred\r\n",
      "Traceback (most recent call last):\r\n",
      "  File \"<ipython-input-6-7980dd2c71e5>\", line 3, in <module>\r\n",
      "    x=2/0\r\n",
      "ZeroDivisionError: division by zero\r\n"
     ]
    }
   ],
   "source": [
    "!cat example.log"
   ]
  },
  {
   "cell_type": "markdown",
   "id": "efficient-restoration",
   "metadata": {},
   "source": [
    "Note that we had to say `exc_info=True` so that it saves the Traceback of error.\n",
    "\n",
    "Next we would learn how to customize the format of the message so that we can save the date and time of the message. Note that you need to restart your jupyter notebook as `basicConfig` is configured only once during a run, which is why it should be done at the beginning of your code."
   ]
  },
  {
   "cell_type": "code",
   "execution_count": 1,
   "id": "brave-preliminary",
   "metadata": {},
   "outputs": [],
   "source": [
    "import logging\n",
    "logging.basicConfig(filename='example.log',format='%(asctime)s -%(levelname)s -%(message)s', datefmt='%d-%b-%y %H:%M:%S')\n",
    "logging.warning('Admin logging in')"
   ]
  },
  {
   "cell_type": "code",
   "execution_count": 2,
   "id": "quiet-geometry",
   "metadata": {},
   "outputs": [
    {
     "name": "stdout",
     "output_type": "stream",
     "text": [
      "WARNING:root:Also this\r\n",
      "ERROR:root:And this.\r\n",
      "CRITICAL:root:Woahhh\r\n",
      "ERROR:root:Exception occurred\r\n",
      "Traceback (most recent call last):\r\n",
      "  File \"<ipython-input-6-7980dd2c71e5>\", line 3, in <module>\r\n",
      "    x=2/0\r\n",
      "ZeroDivisionError: division by zero\r\n",
      "18-Feb-22 08:15:19 -WARNING -Admin logging in\r\n"
     ]
    }
   ],
   "source": [
    "!cat example.log"
   ]
  },
  {
   "cell_type": "code",
   "execution_count": 3,
   "id": "scientific-coordinator",
   "metadata": {},
   "outputs": [],
   "source": [
    "y=3\n",
    "try:\n",
    "    x=2/0\n",
    "    z=x+y\n",
    "except Exception as e:\n",
    "    logging.error(\"Exception occurred\", exc_info=True)"
   ]
  },
  {
   "cell_type": "code",
   "execution_count": 4,
   "id": "awful-confidentiality",
   "metadata": {},
   "outputs": [
    {
     "name": "stdout",
     "output_type": "stream",
     "text": [
      "WARNING:root:Also this\r\n",
      "ERROR:root:And this.\r\n",
      "CRITICAL:root:Woahhh\r\n",
      "ERROR:root:Exception occurred\r\n",
      "Traceback (most recent call last):\r\n",
      "  File \"<ipython-input-6-7980dd2c71e5>\", line 3, in <module>\r\n",
      "    x=2/0\r\n",
      "ZeroDivisionError: division by zero\r\n",
      "18-Feb-22 08:15:19 -WARNING -Admin logging in\r\n",
      "18-Feb-22 08:15:50 -ERROR -Exception occurred\r\n",
      "Traceback (most recent call last):\r\n",
      "  File \"<ipython-input-3-7980dd2c71e5>\", line 3, in <module>\r\n",
      "    x=2/0\r\n",
      "ZeroDivisionError: division by zero\r\n"
     ]
    }
   ],
   "source": [
    "!cat example.log"
   ]
  },
  {
   "cell_type": "markdown",
   "id": "impressive-secretariat",
   "metadata": {},
   "source": [
    "This concludes an introduction to logging error. Here are the few references that can help you learn more:\n",
    "\n",
    "https://realpython.com/python-logging/\n",
    "\n",
    "https://docs.python.org/3/howto/logging.html"
   ]
  },
  {
   "cell_type": "code",
   "execution_count": null,
   "id": "foreign-helen",
   "metadata": {},
   "outputs": [],
   "source": []
  }
 ],
 "metadata": {
  "kernelspec": {
   "display_name": "Python 3",
   "language": "python",
   "name": "python3"
  },
  "language_info": {
   "codemirror_mode": {
    "name": "ipython",
    "version": 3
   },
   "file_extension": ".py",
   "mimetype": "text/x-python",
   "name": "python",
   "nbconvert_exporter": "python",
   "pygments_lexer": "ipython3",
   "version": "3.6.12"
  }
 },
 "nbformat": 4,
 "nbformat_minor": 5
}
